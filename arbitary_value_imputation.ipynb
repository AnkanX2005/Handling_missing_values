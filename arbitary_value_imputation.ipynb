{
 "cells": [
  {
   "cell_type": "code",
   "execution_count": 31,
   "id": "954c0922",
   "metadata": {},
   "outputs": [],
   "source": [
    "import pandas as pd\n",
    "import numpy as np"
   ]
  },
  {
   "cell_type": "code",
   "execution_count": 32,
   "id": "fd1b976c",
   "metadata": {},
   "outputs": [],
   "source": [
    "df = pd.read_csv(\"D:\\\\ML-DataSets\\\\titanic_toy.csv\")"
   ]
  },
  {
   "cell_type": "code",
   "execution_count": 33,
   "id": "b5959d7a",
   "metadata": {},
   "outputs": [
    {
     "data": {
      "application/vnd.microsoft.datawrangler.viewer.v0+json": {
       "columns": [
        {
         "name": "index",
         "rawType": "int64",
         "type": "integer"
        },
        {
         "name": "Age",
         "rawType": "float64",
         "type": "float"
        },
        {
         "name": "Fare",
         "rawType": "float64",
         "type": "float"
        },
        {
         "name": "Family",
         "rawType": "int64",
         "type": "integer"
        },
        {
         "name": "Survived",
         "rawType": "int64",
         "type": "integer"
        }
       ],
       "ref": "d4354c3f-ebeb-4d91-81ba-529fea30c54c",
       "rows": [
        [
         "0",
         "22.0",
         "7.25",
         "1",
         "0"
        ],
        [
         "1",
         "38.0",
         "71.2833",
         "1",
         "1"
        ],
        [
         "2",
         "26.0",
         "7.925",
         "0",
         "1"
        ],
        [
         "3",
         "35.0",
         "53.1",
         "1",
         "1"
        ],
        [
         "4",
         "35.0",
         "8.05",
         "0",
         "0"
        ]
       ],
       "shape": {
        "columns": 4,
        "rows": 5
       }
      },
      "text/html": [
       "<div>\n",
       "<style scoped>\n",
       "    .dataframe tbody tr th:only-of-type {\n",
       "        vertical-align: middle;\n",
       "    }\n",
       "\n",
       "    .dataframe tbody tr th {\n",
       "        vertical-align: top;\n",
       "    }\n",
       "\n",
       "    .dataframe thead th {\n",
       "        text-align: right;\n",
       "    }\n",
       "</style>\n",
       "<table border=\"1\" class=\"dataframe\">\n",
       "  <thead>\n",
       "    <tr style=\"text-align: right;\">\n",
       "      <th></th>\n",
       "      <th>Age</th>\n",
       "      <th>Fare</th>\n",
       "      <th>Family</th>\n",
       "      <th>Survived</th>\n",
       "    </tr>\n",
       "  </thead>\n",
       "  <tbody>\n",
       "    <tr>\n",
       "      <th>0</th>\n",
       "      <td>22.0</td>\n",
       "      <td>7.2500</td>\n",
       "      <td>1</td>\n",
       "      <td>0</td>\n",
       "    </tr>\n",
       "    <tr>\n",
       "      <th>1</th>\n",
       "      <td>38.0</td>\n",
       "      <td>71.2833</td>\n",
       "      <td>1</td>\n",
       "      <td>1</td>\n",
       "    </tr>\n",
       "    <tr>\n",
       "      <th>2</th>\n",
       "      <td>26.0</td>\n",
       "      <td>7.9250</td>\n",
       "      <td>0</td>\n",
       "      <td>1</td>\n",
       "    </tr>\n",
       "    <tr>\n",
       "      <th>3</th>\n",
       "      <td>35.0</td>\n",
       "      <td>53.1000</td>\n",
       "      <td>1</td>\n",
       "      <td>1</td>\n",
       "    </tr>\n",
       "    <tr>\n",
       "      <th>4</th>\n",
       "      <td>35.0</td>\n",
       "      <td>8.0500</td>\n",
       "      <td>0</td>\n",
       "      <td>0</td>\n",
       "    </tr>\n",
       "  </tbody>\n",
       "</table>\n",
       "</div>"
      ],
      "text/plain": [
       "    Age     Fare  Family  Survived\n",
       "0  22.0   7.2500       1         0\n",
       "1  38.0  71.2833       1         1\n",
       "2  26.0   7.9250       0         1\n",
       "3  35.0  53.1000       1         1\n",
       "4  35.0   8.0500       0         0"
      ]
     },
     "execution_count": 33,
     "metadata": {},
     "output_type": "execute_result"
    }
   ],
   "source": [
    "df.head()"
   ]
  },
  {
   "cell_type": "code",
   "execution_count": 34,
   "id": "2e19d309",
   "metadata": {},
   "outputs": [],
   "source": [
    "x = df.drop(columns=['Survived'])\n",
    "y = df['Survived']"
   ]
  },
  {
   "cell_type": "code",
   "execution_count": 35,
   "id": "a90f35d3",
   "metadata": {},
   "outputs": [
    {
     "data": {
      "application/vnd.microsoft.datawrangler.viewer.v0+json": {
       "columns": [
        {
         "name": "index",
         "rawType": "int64",
         "type": "integer"
        },
        {
         "name": "Age",
         "rawType": "float64",
         "type": "float"
        },
        {
         "name": "Fare",
         "rawType": "float64",
         "type": "float"
        },
        {
         "name": "Family",
         "rawType": "int64",
         "type": "integer"
        }
       ],
       "ref": "aa1c9058-6b1f-4f5f-aefe-8d6dd08baf25",
       "rows": [
        [
         "0",
         "22.0",
         "7.25",
         "1"
        ],
        [
         "1",
         "38.0",
         "71.2833",
         "1"
        ],
        [
         "2",
         "26.0",
         "7.925",
         "0"
        ],
        [
         "3",
         "35.0",
         "53.1",
         "1"
        ],
        [
         "4",
         "35.0",
         "8.05",
         "0"
        ],
        [
         "5",
         null,
         "8.4583",
         "0"
        ],
        [
         "6",
         "54.0",
         "51.8625",
         "0"
        ],
        [
         "7",
         "2.0",
         "21.075",
         "4"
        ],
        [
         "8",
         "27.0",
         "11.1333",
         "2"
        ],
        [
         "9",
         "14.0",
         "30.0708",
         "1"
        ],
        [
         "10",
         "4.0",
         "16.7",
         "2"
        ],
        [
         "11",
         "58.0",
         "26.55",
         "0"
        ],
        [
         "12",
         "20.0",
         "8.05",
         "0"
        ],
        [
         "13",
         "39.0",
         "31.275",
         "6"
        ],
        [
         "14",
         "14.0",
         "7.8542",
         "0"
        ],
        [
         "15",
         "55.0",
         "16.0",
         "0"
        ],
        [
         "16",
         "2.0",
         "29.125",
         "5"
        ],
        [
         "17",
         null,
         "13.0",
         "0"
        ],
        [
         "18",
         "31.0",
         "18.0",
         "1"
        ],
        [
         "19",
         null,
         "7.225",
         "0"
        ],
        [
         "20",
         "35.0",
         "26.0",
         "0"
        ],
        [
         "21",
         "34.0",
         "13.0",
         "0"
        ],
        [
         "22",
         "15.0",
         "8.0292",
         "0"
        ],
        [
         "23",
         "28.0",
         "35.5",
         "0"
        ],
        [
         "24",
         "8.0",
         "21.075",
         "4"
        ],
        [
         "25",
         "38.0",
         "31.3875",
         "6"
        ],
        [
         "26",
         null,
         "7.225",
         "0"
        ],
        [
         "27",
         "19.0",
         "263.0",
         "5"
        ],
        [
         "28",
         null,
         "7.8792",
         "0"
        ],
        [
         "29",
         null,
         "7.8958",
         "0"
        ],
        [
         "30",
         "40.0",
         "27.7208",
         "0"
        ],
        [
         "31",
         null,
         "146.5208",
         "1"
        ],
        [
         "32",
         null,
         "7.75",
         "0"
        ],
        [
         "33",
         "66.0",
         "10.5",
         "0"
        ],
        [
         "34",
         "28.0",
         "82.1708",
         "1"
        ],
        [
         "35",
         "42.0",
         "52.0",
         "1"
        ],
        [
         "36",
         null,
         "7.2292",
         "0"
        ],
        [
         "37",
         "21.0",
         "8.05",
         "0"
        ],
        [
         "38",
         "18.0",
         "18.0",
         "2"
        ],
        [
         "39",
         "14.0",
         "11.2417",
         "1"
        ],
        [
         "40",
         "40.0",
         null,
         "1"
        ],
        [
         "41",
         "27.0",
         "21.0",
         "1"
        ],
        [
         "42",
         null,
         "7.8958",
         "0"
        ],
        [
         "43",
         "3.0",
         "41.5792",
         "3"
        ],
        [
         "44",
         "19.0",
         "7.8792",
         "0"
        ],
        [
         "45",
         null,
         "8.05",
         "0"
        ],
        [
         "46",
         null,
         "15.5",
         "1"
        ],
        [
         "47",
         null,
         "7.75",
         "0"
        ],
        [
         "48",
         null,
         "21.6792",
         "2"
        ],
        [
         "49",
         "18.0",
         "17.8",
         "1"
        ]
       ],
       "shape": {
        "columns": 3,
        "rows": 891
       }
      },
      "text/html": [
       "<div>\n",
       "<style scoped>\n",
       "    .dataframe tbody tr th:only-of-type {\n",
       "        vertical-align: middle;\n",
       "    }\n",
       "\n",
       "    .dataframe tbody tr th {\n",
       "        vertical-align: top;\n",
       "    }\n",
       "\n",
       "    .dataframe thead th {\n",
       "        text-align: right;\n",
       "    }\n",
       "</style>\n",
       "<table border=\"1\" class=\"dataframe\">\n",
       "  <thead>\n",
       "    <tr style=\"text-align: right;\">\n",
       "      <th></th>\n",
       "      <th>Age</th>\n",
       "      <th>Fare</th>\n",
       "      <th>Family</th>\n",
       "    </tr>\n",
       "  </thead>\n",
       "  <tbody>\n",
       "    <tr>\n",
       "      <th>0</th>\n",
       "      <td>22.0</td>\n",
       "      <td>7.2500</td>\n",
       "      <td>1</td>\n",
       "    </tr>\n",
       "    <tr>\n",
       "      <th>1</th>\n",
       "      <td>38.0</td>\n",
       "      <td>71.2833</td>\n",
       "      <td>1</td>\n",
       "    </tr>\n",
       "    <tr>\n",
       "      <th>2</th>\n",
       "      <td>26.0</td>\n",
       "      <td>7.9250</td>\n",
       "      <td>0</td>\n",
       "    </tr>\n",
       "    <tr>\n",
       "      <th>3</th>\n",
       "      <td>35.0</td>\n",
       "      <td>53.1000</td>\n",
       "      <td>1</td>\n",
       "    </tr>\n",
       "    <tr>\n",
       "      <th>4</th>\n",
       "      <td>35.0</td>\n",
       "      <td>8.0500</td>\n",
       "      <td>0</td>\n",
       "    </tr>\n",
       "    <tr>\n",
       "      <th>...</th>\n",
       "      <td>...</td>\n",
       "      <td>...</td>\n",
       "      <td>...</td>\n",
       "    </tr>\n",
       "    <tr>\n",
       "      <th>886</th>\n",
       "      <td>27.0</td>\n",
       "      <td>13.0000</td>\n",
       "      <td>0</td>\n",
       "    </tr>\n",
       "    <tr>\n",
       "      <th>887</th>\n",
       "      <td>19.0</td>\n",
       "      <td>30.0000</td>\n",
       "      <td>0</td>\n",
       "    </tr>\n",
       "    <tr>\n",
       "      <th>888</th>\n",
       "      <td>NaN</td>\n",
       "      <td>23.4500</td>\n",
       "      <td>3</td>\n",
       "    </tr>\n",
       "    <tr>\n",
       "      <th>889</th>\n",
       "      <td>26.0</td>\n",
       "      <td>NaN</td>\n",
       "      <td>0</td>\n",
       "    </tr>\n",
       "    <tr>\n",
       "      <th>890</th>\n",
       "      <td>32.0</td>\n",
       "      <td>7.7500</td>\n",
       "      <td>0</td>\n",
       "    </tr>\n",
       "  </tbody>\n",
       "</table>\n",
       "<p>891 rows × 3 columns</p>\n",
       "</div>"
      ],
      "text/plain": [
       "      Age     Fare  Family\n",
       "0    22.0   7.2500       1\n",
       "1    38.0  71.2833       1\n",
       "2    26.0   7.9250       0\n",
       "3    35.0  53.1000       1\n",
       "4    35.0   8.0500       0\n",
       "..    ...      ...     ...\n",
       "886  27.0  13.0000       0\n",
       "887  19.0  30.0000       0\n",
       "888   NaN  23.4500       3\n",
       "889  26.0      NaN       0\n",
       "890  32.0   7.7500       0\n",
       "\n",
       "[891 rows x 3 columns]"
      ]
     },
     "execution_count": 35,
     "metadata": {},
     "output_type": "execute_result"
    }
   ],
   "source": [
    "x"
   ]
  },
  {
   "cell_type": "code",
   "execution_count": 36,
   "id": "5e2b4ad9",
   "metadata": {},
   "outputs": [
    {
     "data": {
      "application/vnd.microsoft.datawrangler.viewer.v0+json": {
       "columns": [
        {
         "name": "index",
         "rawType": "int64",
         "type": "integer"
        },
        {
         "name": "Survived",
         "rawType": "int64",
         "type": "integer"
        }
       ],
       "ref": "53b6ea1b-b571-46b8-b42a-46a786244c28",
       "rows": [
        [
         "0",
         "0"
        ],
        [
         "1",
         "1"
        ],
        [
         "2",
         "1"
        ],
        [
         "3",
         "1"
        ],
        [
         "4",
         "0"
        ],
        [
         "5",
         "0"
        ],
        [
         "6",
         "0"
        ],
        [
         "7",
         "0"
        ],
        [
         "8",
         "1"
        ],
        [
         "9",
         "1"
        ],
        [
         "10",
         "1"
        ],
        [
         "11",
         "1"
        ],
        [
         "12",
         "0"
        ],
        [
         "13",
         "0"
        ],
        [
         "14",
         "0"
        ],
        [
         "15",
         "1"
        ],
        [
         "16",
         "0"
        ],
        [
         "17",
         "1"
        ],
        [
         "18",
         "0"
        ],
        [
         "19",
         "1"
        ],
        [
         "20",
         "0"
        ],
        [
         "21",
         "1"
        ],
        [
         "22",
         "1"
        ],
        [
         "23",
         "1"
        ],
        [
         "24",
         "0"
        ],
        [
         "25",
         "1"
        ],
        [
         "26",
         "0"
        ],
        [
         "27",
         "0"
        ],
        [
         "28",
         "1"
        ],
        [
         "29",
         "0"
        ],
        [
         "30",
         "0"
        ],
        [
         "31",
         "1"
        ],
        [
         "32",
         "1"
        ],
        [
         "33",
         "0"
        ],
        [
         "34",
         "0"
        ],
        [
         "35",
         "0"
        ],
        [
         "36",
         "1"
        ],
        [
         "37",
         "0"
        ],
        [
         "38",
         "0"
        ],
        [
         "39",
         "1"
        ],
        [
         "40",
         "0"
        ],
        [
         "41",
         "0"
        ],
        [
         "42",
         "0"
        ],
        [
         "43",
         "1"
        ],
        [
         "44",
         "1"
        ],
        [
         "45",
         "0"
        ],
        [
         "46",
         "0"
        ],
        [
         "47",
         "1"
        ],
        [
         "48",
         "0"
        ],
        [
         "49",
         "0"
        ]
       ],
       "shape": {
        "columns": 1,
        "rows": 891
       }
      },
      "text/plain": [
       "0      0\n",
       "1      1\n",
       "2      1\n",
       "3      1\n",
       "4      0\n",
       "      ..\n",
       "886    0\n",
       "887    1\n",
       "888    0\n",
       "889    1\n",
       "890    0\n",
       "Name: Survived, Length: 891, dtype: int64"
      ]
     },
     "execution_count": 36,
     "metadata": {},
     "output_type": "execute_result"
    }
   ],
   "source": [
    "y"
   ]
  },
  {
   "cell_type": "code",
   "execution_count": 37,
   "id": "00326416",
   "metadata": {},
   "outputs": [],
   "source": [
    "from sklearn.model_selection import train_test_split"
   ]
  },
  {
   "cell_type": "code",
   "execution_count": 38,
   "id": "37d0d6b8",
   "metadata": {},
   "outputs": [],
   "source": [
    "x_train, x_test, y_train, y_test = train_test_split(x, y, test_size=0.2, random_state=42)"
   ]
  },
  {
   "cell_type": "markdown",
   "id": "7f742adb",
   "metadata": {},
   "source": [
    "## Using Arbitary value imputation maualy using pandas"
   ]
  },
  {
   "cell_type": "code",
   "execution_count": 39,
   "id": "68f9bbdd",
   "metadata": {},
   "outputs": [
    {
     "data": {
      "application/vnd.microsoft.datawrangler.viewer.v0+json": {
       "columns": [
        {
         "name": "index",
         "rawType": "object",
         "type": "string"
        },
        {
         "name": "0",
         "rawType": "float64",
         "type": "float"
        }
       ],
       "ref": "92457ab2-b460-415b-b262-051902cf7d5e",
       "rows": [
        [
         "Age",
         "0.19865319865319866"
        ],
        [
         "Fare",
         "0.050505050505050504"
        ],
        [
         "Family",
         "0.0"
        ],
        [
         "Survived",
         "0.0"
        ]
       ],
       "shape": {
        "columns": 1,
        "rows": 4
       }
      },
      "text/plain": [
       "Age         0.198653\n",
       "Fare        0.050505\n",
       "Family      0.000000\n",
       "Survived    0.000000\n",
       "dtype: float64"
      ]
     },
     "execution_count": 39,
     "metadata": {},
     "output_type": "execute_result"
    }
   ],
   "source": [
    "df.isnull().mean()\n"
   ]
  },
  {
   "cell_type": "code",
   "execution_count": 40,
   "id": "30416335",
   "metadata": {},
   "outputs": [],
   "source": [
    "x_train['age_99'] = x_train['Age'].fillna(99)\n",
    "x_train['age_-1'] = x_train['Age'].fillna(-1)\n",
    "\n",
    "x_train['fare_999'] = x_train['Fare'].fillna(999)\n",
    "x_train['fare_-1'] = x_train['Fare'].fillna(-1)"
   ]
  },
  {
   "cell_type": "code",
   "execution_count": 41,
   "id": "b802eee8",
   "metadata": {},
   "outputs": [
    {
     "name": "stdout",
     "output_type": "stream",
     "text": [
      "Varience of the orignal Age : 210.2517072477438\n",
      "Varience of the age_99 : 932.9665366701436\n",
      "Varience of the age_-1 : 315.99550362600644\n",
      "Varience of the fare_999 : 47525.47059536007\n",
      "Varience of the fare_-1 : 2675.2394049177087\n"
     ]
    }
   ],
   "source": [
    "print(f'Varience of the orignal Age : {x_train[\"Age\"].var()}')\n",
    "print(f'Varience of the age_99 : {x_train[\"age_99\"].var()}')\n",
    "print(f'Varience of the age_-1 : {x_train[\"age_-1\"].var()}')\n",
    "print(f'Varience of the fare_999 : {x_train[\"fare_999\"].var()}')\n",
    "print(f'Varience of the fare_-1 : {x_train[\"fare_-1\"].var()}')"
   ]
  },
  {
   "cell_type": "code",
   "execution_count": 42,
   "id": "4c986bf7",
   "metadata": {},
   "outputs": [],
   "source": [
    "import seaborn as sns\n",
    "from matplotlib import pyplot as plt"
   ]
  },
  {
   "cell_type": "code",
   "execution_count": 43,
   "id": "b3bf3416",
   "metadata": {},
   "outputs": [
    {
     "data": {
      "image/png": "[encoded data removed]",
      "text/plain": [
       "<Figure size 640x480 with 1 Axes>"
      ]
     },
     "metadata": {},
     "output_type": "display_data"
    }
   ],
   "source": [
    "sns.kdeplot(x_train['Age'], color='blue', label='Original Age')\n",
    "sns.kdeplot(x_train['age_99'], color='red', label='Age 99')\n",
    "sns.kdeplot(x_train['age_-1'], color='green', label='Age -1')\n",
    "\n",
    "plt.legend()\n",
    "plt.show()"
   ]
  },
  {
   "cell_type": "code",
   "execution_count": 44,
   "id": "244d4e16",
   "metadata": {},
   "outputs": [
    {
     "data": {
      "image/png": "[encoded data removed]",
      "text/plain": [
       "<Figure size 640x480 with 1 Axes>"
      ]
     },
     "metadata": {},
     "output_type": "display_data"
    }
   ],
   "source": [
    "sns.kdeplot(x_train['Fare'], color='blue', label='Original Fare')\n",
    "sns.kdeplot(x_train['fare_999'], color='red', label='Fare 999')\n",
    "sns.kdeplot(x_train['fare_-1'], color='green', label='Fare -1')\n",
    "\n",
    "plt.legend()\n",
    "plt.show()"
   ]
  },
  {
   "cell_type": "code",
   "execution_count": 45,
   "id": "27abd570",
   "metadata": {},
   "outputs": [
    {
     "data": {
      "application/vnd.microsoft.datawrangler.viewer.v0+json": {
       "columns": [
        {
         "name": "index",
         "rawType": "object",
         "type": "string"
        },
        {
         "name": "Age",
         "rawType": "float64",
         "type": "float"
        },
        {
         "name": "Fare",
         "rawType": "float64",
         "type": "float"
        },
        {
         "name": "Family",
         "rawType": "float64",
         "type": "float"
        },
        {
         "name": "age_99",
         "rawType": "float64",
         "type": "float"
        },
        {
         "name": "age_-1",
         "rawType": "float64",
         "type": "float"
        },
        {
         "name": "fare_999",
         "rawType": "float64",
         "type": "float"
        },
        {
         "name": "fare_-1",
         "rawType": "float64",
         "type": "float"
        }
       ],
       "ref": "e7e02afb-aa56-4bb2-97f0-ee7483bb63f3",
       "rows": [
        [
         "Age",
         "1.0",
         "0.09148154366653277",
         "-0.3196508262075465",
         "1.0",
         "1.0",
         "0.039967218809430355",
         "0.08542198196459812"
        ],
        [
         "Fare",
         "0.09148154366653277",
         "1.0",
         "0.20719344423270222",
         "-0.06936539002288089",
         "0.14507142949733046",
         "1.0",
         "1.0"
        ],
        [
         "Family",
         "-0.3196508262075465",
         "0.20719344423270222",
         "1.0",
         "-0.13507931139907886",
         "-0.16832907387320095",
         "0.04601599417266438",
         "0.20321161469162688"
        ],
        [
         "age_99",
         "1.0",
         "-0.06936539002288089",
         "-0.13507931139907886",
         "1.0",
         "-0.3065760228615635",
         "-0.03830284780669428",
         "-0.06401710172138429"
        ],
        [
         "age_-1",
         "1.0",
         "0.14507142949733046",
         "-0.16832907387320095",
         "-0.3065760228615635",
         "1.0",
         "0.06779172983967949",
         "0.13515919181360245"
        ],
        [
         "fare_999",
         "0.039967218809430355",
         "1.0",
         "0.04601599417266438",
         "-0.03830284780669428",
         "0.06779172983967949",
         "1.0",
         "0.09435709545842974"
        ],
        [
         "fare_-1",
         "0.08542198196459812",
         "1.0",
         "0.20321161469162688",
         "-0.06401710172138429",
         "0.13515919181360245",
         "0.09435709545842974",
         "1.0"
        ]
       ],
       "shape": {
        "columns": 7,
        "rows": 7
       }
      },
      "text/html": [
       "<div>\n",
       "<style scoped>\n",
       "    .dataframe tbody tr th:only-of-type {\n",
       "        vertical-align: middle;\n",
       "    }\n",
       "\n",
       "    .dataframe tbody tr th {\n",
       "        vertical-align: top;\n",
       "    }\n",
       "\n",
       "    .dataframe thead th {\n",
       "        text-align: right;\n",
       "    }\n",
       "</style>\n",
       "<table border=\"1\" class=\"dataframe\">\n",
       "  <thead>\n",
       "    <tr style=\"text-align: right;\">\n",
       "      <th></th>\n",
       "      <th>Age</th>\n",
       "      <th>Fare</th>\n",
       "      <th>Family</th>\n",
       "      <th>age_99</th>\n",
       "      <th>age_-1</th>\n",
       "      <th>fare_999</th>\n",
       "      <th>fare_-1</th>\n",
       "    </tr>\n",
       "  </thead>\n",
       "  <tbody>\n",
       "    <tr>\n",
       "      <th>Age</th>\n",
       "      <td>1.000000</td>\n",
       "      <td>0.091482</td>\n",
       "      <td>-0.319651</td>\n",
       "      <td>1.000000</td>\n",
       "      <td>1.000000</td>\n",
       "      <td>0.039967</td>\n",
       "      <td>0.085422</td>\n",
       "    </tr>\n",
       "    <tr>\n",
       "      <th>Fare</th>\n",
       "      <td>0.091482</td>\n",
       "      <td>1.000000</td>\n",
       "      <td>0.207193</td>\n",
       "      <td>-0.069365</td>\n",
       "      <td>0.145071</td>\n",
       "      <td>1.000000</td>\n",
       "      <td>1.000000</td>\n",
       "    </tr>\n",
       "    <tr>\n",
       "      <th>Family</th>\n",
       "      <td>-0.319651</td>\n",
       "      <td>0.207193</td>\n",
       "      <td>1.000000</td>\n",
       "      <td>-0.135079</td>\n",
       "      <td>-0.168329</td>\n",
       "      <td>0.046016</td>\n",
       "      <td>0.203212</td>\n",
       "    </tr>\n",
       "    <tr>\n",
       "      <th>age_99</th>\n",
       "      <td>1.000000</td>\n",
       "      <td>-0.069365</td>\n",
       "      <td>-0.135079</td>\n",
       "      <td>1.000000</td>\n",
       "      <td>-0.306576</td>\n",
       "      <td>-0.038303</td>\n",
       "      <td>-0.064017</td>\n",
       "    </tr>\n",
       "    <tr>\n",
       "      <th>age_-1</th>\n",
       "      <td>1.000000</td>\n",
       "      <td>0.145071</td>\n",
       "      <td>-0.168329</td>\n",
       "      <td>-0.306576</td>\n",
       "      <td>1.000000</td>\n",
       "      <td>0.067792</td>\n",
       "      <td>0.135159</td>\n",
       "    </tr>\n",
       "    <tr>\n",
       "      <th>fare_999</th>\n",
       "      <td>0.039967</td>\n",
       "      <td>1.000000</td>\n",
       "      <td>0.046016</td>\n",
       "      <td>-0.038303</td>\n",
       "      <td>0.067792</td>\n",
       "      <td>1.000000</td>\n",
       "      <td>0.094357</td>\n",
       "    </tr>\n",
       "    <tr>\n",
       "      <th>fare_-1</th>\n",
       "      <td>0.085422</td>\n",
       "      <td>1.000000</td>\n",
       "      <td>0.203212</td>\n",
       "      <td>-0.064017</td>\n",
       "      <td>0.135159</td>\n",
       "      <td>0.094357</td>\n",
       "      <td>1.000000</td>\n",
       "    </tr>\n",
       "  </tbody>\n",
       "</table>\n",
       "</div>"
      ],
      "text/plain": [
       "               Age      Fare    Family    age_99    age_-1  fare_999   fare_-1\n",
       "Age       1.000000  0.091482 -0.319651  1.000000  1.000000  0.039967  0.085422\n",
       "Fare      0.091482  1.000000  0.207193 -0.069365  0.145071  1.000000  1.000000\n",
       "Family   -0.319651  0.207193  1.000000 -0.135079 -0.168329  0.046016  0.203212\n",
       "age_99    1.000000 -0.069365 -0.135079  1.000000 -0.306576 -0.038303 -0.064017\n",
       "age_-1    1.000000  0.145071 -0.168329 -0.306576  1.000000  0.067792  0.135159\n",
       "fare_999  0.039967  1.000000  0.046016 -0.038303  0.067792  1.000000  0.094357\n",
       "fare_-1   0.085422  1.000000  0.203212 -0.064017  0.135159  0.094357  1.000000"
      ]
     },
     "execution_count": 45,
     "metadata": {},
     "output_type": "execute_result"
    }
   ],
   "source": [
    "x_train.corr()"
   ]
  },
  {
   "cell_type": "code",
   "execution_count": 46,
   "id": "056681a7",
   "metadata": {},
   "outputs": [
    {
     "data": {
      "application/vnd.microsoft.datawrangler.viewer.v0+json": {
       "columns": [
        {
         "name": "index",
         "rawType": "object",
         "type": "string"
        },
        {
         "name": "Age",
         "rawType": "float64",
         "type": "float"
        },
        {
         "name": "Fare",
         "rawType": "float64",
         "type": "float"
        },
        {
         "name": "Family",
         "rawType": "float64",
         "type": "float"
        },
        {
         "name": "age_99",
         "rawType": "float64",
         "type": "float"
        },
        {
         "name": "age_-1",
         "rawType": "float64",
         "type": "float"
        },
        {
         "name": "fare_999",
         "rawType": "float64",
         "type": "float"
        },
        {
         "name": "fare_-1",
         "rawType": "float64",
         "type": "float"
        }
       ],
       "ref": "2a27aceb-0c1c-4ca3-8f96-7fbbad190a95",
       "rows": [
        [
         "Age",
         "210.25170724774335",
         "75.48137483286438",
         "-6.993325474875389",
         "210.25170724774335",
         "210.25170724774335",
         "130.4957774993935",
         "69.13716238421127"
        ],
        [
         "Fare",
         "75.48137483286438",
         "2761.0314349486334",
         "18.59916303331142",
         "-111.96504629852286",
         "135.78580443564326",
         "2761.0314349486334",
         "2761.0314349486334"
        ],
        [
         "Family",
         "-6.993325474875389",
         "18.59916303331142",
         "2.8308917650405374",
         "-6.941982332211311",
         "-5.034556487934391",
         "16.87849249197996",
         "17.68444707406878"
        ],
        [
         "age_99",
         "210.25170724774335",
         "-111.96504629852286",
         "-6.941982332211311",
         "932.9665366701453",
         "-166.46068247048788",
         "-255.05116479926602",
         "-101.13707007589807"
        ],
        [
         "age_-1",
         "210.25170724774335",
         "135.78580443564326",
         "-5.034556487934391",
         "-166.46068247048788",
         "315.9955036260056",
         "262.7122841332389",
         "124.27030496163398"
        ],
        [
         "fare_999",
         "130.4957774993935",
         "2761.0314349486334",
         "16.87849249197996",
         "-255.05116479926602",
         "262.7122841332389",
         "47525.47059536",
         "1063.9448166656764"
        ],
        [
         "fare_-1",
         "69.13716238421127",
         "2761.0314349486334",
         "17.68444707406878",
         "-101.13707007589807",
         "124.27030496163398",
         "1063.9448166656764",
         "2675.2394049177"
        ]
       ],
       "shape": {
        "columns": 7,
        "rows": 7
       }
      },
      "text/html": [
       "<div>\n",
       "<style scoped>\n",
       "    .dataframe tbody tr th:only-of-type {\n",
       "        vertical-align: middle;\n",
       "    }\n",
       "\n",
       "    .dataframe tbody tr th {\n",
       "        vertical-align: top;\n",
       "    }\n",
       "\n",
       "    .dataframe thead th {\n",
       "        text-align: right;\n",
       "    }\n",
       "</style>\n",
       "<table border=\"1\" class=\"dataframe\">\n",
       "  <thead>\n",
       "    <tr style=\"text-align: right;\">\n",
       "      <th></th>\n",
       "      <th>Age</th>\n",
       "      <th>Fare</th>\n",
       "      <th>Family</th>\n",
       "      <th>age_99</th>\n",
       "      <th>age_-1</th>\n",
       "      <th>fare_999</th>\n",
       "      <th>fare_-1</th>\n",
       "    </tr>\n",
       "  </thead>\n",
       "  <tbody>\n",
       "    <tr>\n",
       "      <th>Age</th>\n",
       "      <td>210.251707</td>\n",
       "      <td>75.481375</td>\n",
       "      <td>-6.993325</td>\n",
       "      <td>210.251707</td>\n",
       "      <td>210.251707</td>\n",
       "      <td>130.495777</td>\n",
       "      <td>69.137162</td>\n",
       "    </tr>\n",
       "    <tr>\n",
       "      <th>Fare</th>\n",
       "      <td>75.481375</td>\n",
       "      <td>2761.031435</td>\n",
       "      <td>18.599163</td>\n",
       "      <td>-111.965046</td>\n",
       "      <td>135.785804</td>\n",
       "      <td>2761.031435</td>\n",
       "      <td>2761.031435</td>\n",
       "    </tr>\n",
       "    <tr>\n",
       "      <th>Family</th>\n",
       "      <td>-6.993325</td>\n",
       "      <td>18.599163</td>\n",
       "      <td>2.830892</td>\n",
       "      <td>-6.941982</td>\n",
       "      <td>-5.034556</td>\n",
       "      <td>16.878492</td>\n",
       "      <td>17.684447</td>\n",
       "    </tr>\n",
       "    <tr>\n",
       "      <th>age_99</th>\n",
       "      <td>210.251707</td>\n",
       "      <td>-111.965046</td>\n",
       "      <td>-6.941982</td>\n",
       "      <td>932.966537</td>\n",
       "      <td>-166.460682</td>\n",
       "      <td>-255.051165</td>\n",
       "      <td>-101.137070</td>\n",
       "    </tr>\n",
       "    <tr>\n",
       "      <th>age_-1</th>\n",
       "      <td>210.251707</td>\n",
       "      <td>135.785804</td>\n",
       "      <td>-5.034556</td>\n",
       "      <td>-166.460682</td>\n",
       "      <td>315.995504</td>\n",
       "      <td>262.712284</td>\n",
       "      <td>124.270305</td>\n",
       "    </tr>\n",
       "    <tr>\n",
       "      <th>fare_999</th>\n",
       "      <td>130.495777</td>\n",
       "      <td>2761.031435</td>\n",
       "      <td>16.878492</td>\n",
       "      <td>-255.051165</td>\n",
       "      <td>262.712284</td>\n",
       "      <td>47525.470595</td>\n",
       "      <td>1063.944817</td>\n",
       "    </tr>\n",
       "    <tr>\n",
       "      <th>fare_-1</th>\n",
       "      <td>69.137162</td>\n",
       "      <td>2761.031435</td>\n",
       "      <td>17.684447</td>\n",
       "      <td>-101.137070</td>\n",
       "      <td>124.270305</td>\n",
       "      <td>1063.944817</td>\n",
       "      <td>2675.239405</td>\n",
       "    </tr>\n",
       "  </tbody>\n",
       "</table>\n",
       "</div>"
      ],
      "text/plain": [
       "                 Age         Fare     Family      age_99      age_-1  \\\n",
       "Age       210.251707    75.481375  -6.993325  210.251707  210.251707   \n",
       "Fare       75.481375  2761.031435  18.599163 -111.965046  135.785804   \n",
       "Family     -6.993325    18.599163   2.830892   -6.941982   -5.034556   \n",
       "age_99    210.251707  -111.965046  -6.941982  932.966537 -166.460682   \n",
       "age_-1    210.251707   135.785804  -5.034556 -166.460682  315.995504   \n",
       "fare_999  130.495777  2761.031435  16.878492 -255.051165  262.712284   \n",
       "fare_-1    69.137162  2761.031435  17.684447 -101.137070  124.270305   \n",
       "\n",
       "              fare_999      fare_-1  \n",
       "Age         130.495777    69.137162  \n",
       "Fare       2761.031435  2761.031435  \n",
       "Family       16.878492    17.684447  \n",
       "age_99     -255.051165  -101.137070  \n",
       "age_-1      262.712284   124.270305  \n",
       "fare_999  47525.470595  1063.944817  \n",
       "fare_-1    1063.944817  2675.239405  "
      ]
     },
     "execution_count": 46,
     "metadata": {},
     "output_type": "execute_result"
    }
   ],
   "source": [
    "x_train.cov()"
   ]
  },
  {
   "cell_type": "markdown",
   "id": "9a03add6",
   "metadata": {},
   "source": [
    "## Using Sklearn "
   ]
  },
  {
   "cell_type": "code",
   "execution_count": 47,
   "id": "296c5a06",
   "metadata": {},
   "outputs": [],
   "source": [
    "from sklearn.impute import SimpleImputer\n",
    "from sklearn.compose import ColumnTransformer"
   ]
  },
  {
   "cell_type": "code",
   "execution_count": 48,
   "id": "244bfe6a",
   "metadata": {},
   "outputs": [],
   "source": [
    "impute1 = SimpleImputer(strategy='constant', fill_value=99)\n",
    "impute2 = SimpleImputer(strategy='constant', fill_value = 999)"
   ]
  },
  {
   "cell_type": "code",
   "execution_count": 49,
   "id": "d9874dc9",
   "metadata": {},
   "outputs": [],
   "source": [
    "trf = ColumnTransformer([\n",
    "    ('imputer1', impute1, ['Age']),\n",
    "    ('imputer2', impute2, ['Fare'])\n",
    "], remainder = 'passthrough')"
   ]
  },
  {
   "cell_type": "code",
   "execution_count": 54,
   "id": "60044402",
   "metadata": {},
   "outputs": [],
   "source": [
    "x_train, x_test, y_train, y_test = train_test_split(x, y, test_size=0.2, random_state=42)"
   ]
  },
  {
   "cell_type": "code",
   "execution_count": 55,
   "id": "3313dd12",
   "metadata": {},
   "outputs": [
    {
     "name": "stderr",
     "output_type": "stream",
     "text": [
      "c:\\Users\\ANKAN KUMAR SAHOO\\AppData\\Local\\Programs\\Python\\Python312\\Lib\\site-packages\\sklearn\\compose\\_column_transformer.py:1667: FutureWarning: \n",
      "The format of the columns of the 'remainder' transformer in ColumnTransformer.transformers_ will change in version 1.7 to match the format of the other transformers.\n",
      "At the moment the remainder columns are stored as indices (of type int). With the same ColumnTransformer configuration, in the future they will be stored as column names (of type str).\n",
      "To use the new behavior now and suppress this warning, use ColumnTransformer(force_int_remainder_cols=False).\n",
      "\n",
      "  warnings.warn(\n"
     ]
    },
    {
     "data": {
      "text/html": [
       "<style>#sk-container-id-3 {\n",
       "  /* Definition of color scheme common for light and dark mode */\n",
       "  --sklearn-color-text: #000;\n",
       "  --sklearn-color-text-muted: #666;\n",
       "  --sklearn-color-line: gray;\n",
       "  /* Definition of color scheme for unfitted estimators */\n",
       "  --sklearn-color-unfitted-level-0: #fff5e6;\n",
       "  --sklearn-color-unfitted-level-1: #f6e4d2;\n",
       "  --sklearn-color-unfitted-level-2: #ffe0b3;\n",
       "  --sklearn-color-unfitted-level-3: chocolate;\n",
       "  /* Definition of color scheme for fitted estimators */\n",
       "  --sklearn-color-fitted-level-0: #f0f8ff;\n",
       "  --sklearn-color-fitted-level-1: #d4ebff;\n",
       "  --sklearn-color-fitted-level-2: #b3dbfd;\n",
       "  --sklearn-color-fitted-level-3: cornflowerblue;\n",
       "\n",
       "  /* Specific color for light theme */\n",
       "  --sklearn-color-text-on-default-background: var(--sg-text-color, var(--theme-code-foreground, var(--jp-content-font-color1, black)));\n",
       "  --sklearn-color-background: var(--sg-background-color, var(--theme-background, var(--jp-layout-color0, white)));\n",
       "  --sklearn-color-border-box: var(--sg-text-color, var(--theme-code-foreground, var(--jp-content-font-color1, black)));\n",
       "  --sklearn-color-icon: #696969;\n",
       "\n",
       "  @media (prefers-color-scheme: dark) {\n",
       "    /* Redefinition of color scheme for dark theme */\n",
       "    --sklearn-color-text-on-default-background: var(--sg-text-color, var(--theme-code-foreground, var(--jp-content-font-color1, white)));\n",
       "    --sklearn-color-background: var(--sg-background-color, var(--theme-background, var(--jp-layout-color0, #111)));\n",
       "    --sklearn-color-border-box: var(--sg-text-color, var(--theme-code-foreground, var(--jp-content-font-color1, white)));\n",
       "    --sklearn-color-icon: #878787;\n",
       "  }\n",
       "}\n",
       "\n",
       "#sk-container-id-3 {\n",
       "  color: var(--sklearn-color-text);\n",
       "}\n",
       "\n",
       "#sk-container-id-3 pre {\n",
       "  padding: 0;\n",
       "}\n",
       "\n",
       "#sk-container-id-3 input.sk-hidden--visually {\n",
       "  border: 0;\n",
       "  clip: rect(1px 1px 1px 1px);\n",
       "  clip: rect(1px, 1px, 1px, 1px);\n",
       "  height: 1px;\n",
       "  margin: -1px;\n",
       "  overflow: hidden;\n",
       "  padding: 0;\n",
       "  position: absolute;\n",
       "  width: 1px;\n",
       "}\n",
       "\n",
       "#sk-container-id-3 div.sk-dashed-wrapped {\n",
       "  border: 1px dashed var(--sklearn-color-line);\n",
       "  margin: 0 0.4em 0.5em 0.4em;\n",
       "  box-sizing: border-box;\n",
       "  padding-bottom: 0.4em;\n",
       "  background-color: var(--sklearn-color-background);\n",
       "}\n",
       "\n",
       "#sk-container-id-3 div.sk-container {\n",
       "  /* jupyter's `normalize.less` sets `[hidden] { display: none; }`\n",
       "     but bootstrap.min.css set `[hidden] { display: none !important; }`\n",
       "     so we also need the `!important` here to be able to override the\n",
       "     default hidden behavior on the sphinx rendered scikit-learn.org.\n",
       "     See: https://github.com/scikit-learn/scikit-learn/issues/21755 */\n",
       "  display: inline-block !important;\n",
       "  position: relative;\n",
       "}\n",
       "\n",
       "#sk-container-id-3 div.sk-text-repr-fallback {\n",
       "  display: none;\n",
       "}\n",
       "\n",
       "div.sk-parallel-item,\n",
       "div.sk-serial,\n",
       "div.sk-item {\n",
       "  /* draw centered vertical line to link estimators */\n",
       "  background-image: linear-gradient(var(--sklearn-color-text-on-default-background), var(--sklearn-color-text-on-default-background));\n",
       "  background-size: 2px 100%;\n",
       "  background-repeat: no-repeat;\n",
       "  background-position: center center;\n",
       "}\n",
       "\n",
       "/* Parallel-specific style estimator block */\n",
       "\n",
       "#sk-container-id-3 div.sk-parallel-item::after {\n",
       "  content: \"\";\n",
       "  width: 100%;\n",
       "  border-bottom: 2px solid var(--sklearn-color-text-on-default-background);\n",
       "  flex-grow: 1;\n",
       "}\n",
       "\n",
       "#sk-container-id-3 div.sk-parallel {\n",
       "  display: flex;\n",
       "  align-items: stretch;\n",
       "  justify-content: center;\n",
       "  background-color: var(--sklearn-color-background);\n",
       "  position: relative;\n",
       "}\n",
       "\n",
       "#sk-container-id-3 div.sk-parallel-item {\n",
       "  display: flex;\n",
       "  flex-direction: column;\n",
       "}\n",
       "\n",
       "#sk-container-id-3 div.sk-parallel-item:first-child::after {\n",
       "  align-self: flex-end;\n",
       "  width: 50%;\n",
       "}\n",
       "\n",
       "#sk-container-id-3 div.sk-parallel-item:last-child::after {\n",
       "  align-self: flex-start;\n",
       "  width: 50%;\n",
       "}\n",
       "\n",
       "#sk-container-id-3 div.sk-parallel-item:only-child::after {\n",
       "  width: 0;\n",
       "}\n",
       "\n",
       "/* Serial-specific style estimator block */\n",
       "\n",
       "#sk-container-id-3 div.sk-serial {\n",
       "  display: flex;\n",
       "  flex-direction: column;\n",
       "  align-items: center;\n",
       "  background-color: var(--sklearn-color-background);\n",
       "  padding-right: 1em;\n",
       "  padding-left: 1em;\n",
       "}\n",
       "\n",
       "\n",
       "/* Toggleable style: style used for estimator/Pipeline/ColumnTransformer box that is\n",
       "clickable and can be expanded/collapsed.\n",
       "- Pipeline and ColumnTransformer use this feature and define the default style\n",
       "- Estimators will overwrite some part of the style using the `sk-estimator` class\n",
       "*/\n",
       "\n",
       "/* Pipeline and ColumnTransformer style (default) */\n",
       "\n",
       "#sk-container-id-3 div.sk-toggleable {\n",
       "  /* Default theme specific background. It is overwritten whether we have a\n",
       "  specific estimator or a Pipeline/ColumnTransformer */\n",
       "  background-color: var(--sklearn-color-background);\n",
       "}\n",
       "\n",
       "/* Toggleable label */\n",
       "#sk-container-id-3 label.sk-toggleable__label {\n",
       "  cursor: pointer;\n",
       "  display: flex;\n",
       "  width: 100%;\n",
       "  margin-bottom: 0;\n",
       "  padding: 0.5em;\n",
       "  box-sizing: border-box;\n",
       "  text-align: center;\n",
       "  align-items: start;\n",
       "  justify-content: space-between;\n",
       "  gap: 0.5em;\n",
       "}\n",
       "\n",
       "#sk-container-id-3 label.sk-toggleable__label .caption {\n",
       "  font-size: 0.6rem;\n",
       "  font-weight: lighter;\n",
       "  color: var(--sklearn-color-text-muted);\n",
       "}\n",
       "\n",
       "#sk-container-id-3 label.sk-toggleable__label-arrow:before {\n",
       "  /* Arrow on the left of the label */\n",
       "  content: \"▸\";\n",
       "  float: left;\n",
       "  margin-right: 0.25em;\n",
       "  color: var(--sklearn-color-icon);\n",
       "}\n",
       "\n",
       "#sk-container-id-3 label.sk-toggleable__label-arrow:hover:before {\n",
       "  color: var(--sklearn-color-text);\n",
       "}\n",
       "\n",
       "/* Toggleable content - dropdown */\n",
       "\n",
       "#sk-container-id-3 div.sk-toggleable__content {\n",
       "  max-height: 0;\n",
       "  max-width: 0;\n",
       "  overflow: hidden;\n",
       "  text-align: left;\n",
       "  /* unfitted */\n",
       "  background-color: var(--sklearn-color-unfitted-level-0);\n",
       "}\n",
       "\n",
       "#sk-container-id-3 div.sk-toggleable__content.fitted {\n",
       "  /* fitted */\n",
       "  background-color: var(--sklearn-color-fitted-level-0);\n",
       "}\n",
       "\n",
       "#sk-container-id-3 div.sk-toggleable__content pre {\n",
       "  margin: 0.2em;\n",
       "  border-radius: 0.25em;\n",
       "  color: var(--sklearn-color-text);\n",
       "  /* unfitted */\n",
       "  background-color: var(--sklearn-color-unfitted-level-0);\n",
       "}\n",
       "\n",
       "#sk-container-id-3 div.sk-toggleable__content.fitted pre {\n",
       "  /* unfitted */\n",
       "  background-color: var(--sklearn-color-fitted-level-0);\n",
       "}\n",
       "\n",
       "#sk-container-id-3 input.sk-toggleable__control:checked~div.sk-toggleable__content {\n",
       "  /* Expand drop-down */\n",
       "  max-height: 200px;\n",
       "  max-width: 100%;\n",
       "  overflow: auto;\n",
       "}\n",
       "\n",
       "#sk-container-id-3 input.sk-toggleable__control:checked~label.sk-toggleable__label-arrow:before {\n",
       "  content: \"▾\";\n",
       "}\n",
       "\n",
       "/* Pipeline/ColumnTransformer-specific style */\n",
       "\n",
       "#sk-container-id-3 div.sk-label input.sk-toggleable__control:checked~label.sk-toggleable__label {\n",
       "  color: var(--sklearn-color-text);\n",
       "  background-color: var(--sklearn-color-unfitted-level-2);\n",
       "}\n",
       "\n",
       "#sk-container-id-3 div.sk-label.fitted input.sk-toggleable__control:checked~label.sk-toggleable__label {\n",
       "  background-color: var(--sklearn-color-fitted-level-2);\n",
       "}\n",
       "\n",
       "/* Estimator-specific style */\n",
       "\n",
       "/* Colorize estimator box */\n",
       "#sk-container-id-3 div.sk-estimator input.sk-toggleable__control:checked~label.sk-toggleable__label {\n",
       "  /* unfitted */\n",
       "  background-color: var(--sklearn-color-unfitted-level-2);\n",
       "}\n",
       "\n",
       "#sk-container-id-3 div.sk-estimator.fitted input.sk-toggleable__control:checked~label.sk-toggleable__label {\n",
       "  /* fitted */\n",
       "  background-color: var(--sklearn-color-fitted-level-2);\n",
       "}\n",
       "\n",
       "#sk-container-id-3 div.sk-label label.sk-toggleable__label,\n",
       "#sk-container-id-3 div.sk-label label {\n",
       "  /* The background is the default theme color */\n",
       "  color: var(--sklearn-color-text-on-default-background);\n",
       "}\n",
       "\n",
       "/* On hover, darken the color of the background */\n",
       "#sk-container-id-3 div.sk-label:hover label.sk-toggleable__label {\n",
       "  color: var(--sklearn-color-text);\n",
       "  background-color: var(--sklearn-color-unfitted-level-2);\n",
       "}\n",
       "\n",
       "/* Label box, darken color on hover, fitted */\n",
       "#sk-container-id-3 div.sk-label.fitted:hover label.sk-toggleable__label.fitted {\n",
       "  color: var(--sklearn-color-text);\n",
       "  background-color: var(--sklearn-color-fitted-level-2);\n",
       "}\n",
       "\n",
       "/* Estimator label */\n",
       "\n",
       "#sk-container-id-3 div.sk-label label {\n",
       "  font-family: monospace;\n",
       "  font-weight: bold;\n",
       "  display: inline-block;\n",
       "  line-height: 1.2em;\n",
       "}\n",
       "\n",
       "#sk-container-id-3 div.sk-label-container {\n",
       "  text-align: center;\n",
       "}\n",
       "\n",
       "/* Estimator-specific */\n",
       "#sk-container-id-3 div.sk-estimator {\n",
       "  font-family: monospace;\n",
       "  border: 1px dotted var(--sklearn-color-border-box);\n",
       "  border-radius: 0.25em;\n",
       "  box-sizing: border-box;\n",
       "  margin-bottom: 0.5em;\n",
       "  /* unfitted */\n",
       "  background-color: var(--sklearn-color-unfitted-level-0);\n",
       "}\n",
       "\n",
       "#sk-container-id-3 div.sk-estimator.fitted {\n",
       "  /* fitted */\n",
       "  background-color: var(--sklearn-color-fitted-level-0);\n",
       "}\n",
       "\n",
       "/* on hover */\n",
       "#sk-container-id-3 div.sk-estimator:hover {\n",
       "  /* unfitted */\n",
       "  background-color: var(--sklearn-color-unfitted-level-2);\n",
       "}\n",
       "\n",
       "#sk-container-id-3 div.sk-estimator.fitted:hover {\n",
       "  /* fitted */\n",
       "  background-color: var(--sklearn-color-fitted-level-2);\n",
       "}\n",
       "\n",
       "/* Specification for estimator info (e.g. \"i\" and \"?\") */\n",
       "\n",
       "/* Common style for \"i\" and \"?\" */\n",
       "\n",
       ".sk-estimator-doc-link,\n",
       "a:link.sk-estimator-doc-link,\n",
       "a:visited.sk-estimator-doc-link {\n",
       "  float: right;\n",
       "  font-size: smaller;\n",
       "  line-height: 1em;\n",
       "  font-family: monospace;\n",
       "  background-color: var(--sklearn-color-background);\n",
       "  border-radius: 1em;\n",
       "  height: 1em;\n",
       "  width: 1em;\n",
       "  text-decoration: none !important;\n",
       "  margin-left: 0.5em;\n",
       "  text-align: center;\n",
       "  /* unfitted */\n",
       "  border: var(--sklearn-color-unfitted-level-1) 1pt solid;\n",
       "  color: var(--sklearn-color-unfitted-level-1);\n",
       "}\n",
       "\n",
       ".sk-estimator-doc-link.fitted,\n",
       "a:link.sk-estimator-doc-link.fitted,\n",
       "a:visited.sk-estimator-doc-link.fitted {\n",
       "  /* fitted */\n",
       "  border: var(--sklearn-color-fitted-level-1) 1pt solid;\n",
       "  color: var(--sklearn-color-fitted-level-1);\n",
       "}\n",
       "\n",
       "/* On hover */\n",
       "div.sk-estimator:hover .sk-estimator-doc-link:hover,\n",
       ".sk-estimator-doc-link:hover,\n",
       "div.sk-label-container:hover .sk-estimator-doc-link:hover,\n",
       ".sk-estimator-doc-link:hover {\n",
       "  /* unfitted */\n",
       "  background-color: var(--sklearn-color-unfitted-level-3);\n",
       "  color: var(--sklearn-color-background);\n",
       "  text-decoration: none;\n",
       "}\n",
       "\n",
       "div.sk-estimator.fitted:hover .sk-estimator-doc-link.fitted:hover,\n",
       ".sk-estimator-doc-link.fitted:hover,\n",
       "div.sk-label-container:hover .sk-estimator-doc-link.fitted:hover,\n",
       ".sk-estimator-doc-link.fitted:hover {\n",
       "  /* fitted */\n",
       "  background-color: var(--sklearn-color-fitted-level-3);\n",
       "  color: var(--sklearn-color-background);\n",
       "  text-decoration: none;\n",
       "}\n",
       "\n",
       "/* Span, style for the box shown on hovering the info icon */\n",
       ".sk-estimator-doc-link span {\n",
       "  display: none;\n",
       "  z-index: 9999;\n",
       "  position: relative;\n",
       "  font-weight: normal;\n",
       "  right: .2ex;\n",
       "  padding: .5ex;\n",
       "  margin: .5ex;\n",
       "  width: min-content;\n",
       "  min-width: 20ex;\n",
       "  max-width: 50ex;\n",
       "  color: var(--sklearn-color-text);\n",
       "  box-shadow: 2pt 2pt 4pt #999;\n",
       "  /* unfitted */\n",
       "  background: var(--sklearn-color-unfitted-level-0);\n",
       "  border: .5pt solid var(--sklearn-color-unfitted-level-3);\n",
       "}\n",
       "\n",
       ".sk-estimator-doc-link.fitted span {\n",
       "  /* fitted */\n",
       "  background: var(--sklearn-color-fitted-level-0);\n",
       "  border: var(--sklearn-color-fitted-level-3);\n",
       "}\n",
       "\n",
       ".sk-estimator-doc-link:hover span {\n",
       "  display: block;\n",
       "}\n",
       "\n",
       "/* \"?\"-specific style due to the `<a>` HTML tag */\n",
       "\n",
       "#sk-container-id-3 a.estimator_doc_link {\n",
       "  float: right;\n",
       "  font-size: 1rem;\n",
       "  line-height: 1em;\n",
       "  font-family: monospace;\n",
       "  background-color: var(--sklearn-color-background);\n",
       "  border-radius: 1rem;\n",
       "  height: 1rem;\n",
       "  width: 1rem;\n",
       "  text-decoration: none;\n",
       "  /* unfitted */\n",
       "  color: var(--sklearn-color-unfitted-level-1);\n",
       "  border: var(--sklearn-color-unfitted-level-1) 1pt solid;\n",
       "}\n",
       "\n",
       "#sk-container-id-3 a.estimator_doc_link.fitted {\n",
       "  /* fitted */\n",
       "  border: var(--sklearn-color-fitted-level-1) 1pt solid;\n",
       "  color: var(--sklearn-color-fitted-level-1);\n",
       "}\n",
       "\n",
       "/* On hover */\n",
       "#sk-container-id-3 a.estimator_doc_link:hover {\n",
       "  /* unfitted */\n",
       "  background-color: var(--sklearn-color-unfitted-level-3);\n",
       "  color: var(--sklearn-color-background);\n",
       "  text-decoration: none;\n",
       "}\n",
       "\n",
       "#sk-container-id-3 a.estimator_doc_link.fitted:hover {\n",
       "  /* fitted */\n",
       "  background-color: var(--sklearn-color-fitted-level-3);\n",
       "}\n",
       "</style><div id=\"sk-container-id-3\" class=\"sk-top-container\"><div class=\"sk-text-repr-fallback\"><pre>ColumnTransformer(remainder=&#x27;passthrough&#x27;,\n",
       "                  transformers=[(&#x27;imputer1&#x27;,\n",
       "                                 SimpleImputer(fill_value=99,\n",
       "                                               strategy=&#x27;constant&#x27;),\n",
       "                                 [&#x27;Age&#x27;]),\n",
       "                                (&#x27;imputer2&#x27;,\n",
       "                                 SimpleImputer(fill_value=999,\n",
       "                                               strategy=&#x27;constant&#x27;),\n",
       "                                 [&#x27;Fare&#x27;])])</pre><b>In a Jupyter environment, please rerun this cell to show the HTML representation or trust the notebook. <br />On GitHub, the HTML representation is unable to render, please try loading this page with nbviewer.org.</b></div><div class=\"sk-container\" hidden><div class=\"sk-item sk-dashed-wrapped\"><div class=\"sk-label-container\"><div class=\"sk-label fitted sk-toggleable\"><input class=\"sk-toggleable__control sk-hidden--visually\" id=\"sk-estimator-id-15\" type=\"checkbox\" ><label for=\"sk-estimator-id-15\" class=\"sk-toggleable__label fitted sk-toggleable__label-arrow\"><div><div>ColumnTransformer</div></div><div><a class=\"sk-estimator-doc-link fitted\" rel=\"noreferrer\" target=\"_blank\" href=\"https://scikit-learn.org/1.6/modules/generated/sklearn.compose.ColumnTransformer.html\">?<span>Documentation for ColumnTransformer</span></a><span class=\"sk-estimator-doc-link fitted\">i<span>Fitted</span></span></div></label><div class=\"sk-toggleable__content fitted\"><pre>ColumnTransformer(remainder=&#x27;passthrough&#x27;,\n",
       "                  transformers=[(&#x27;imputer1&#x27;,\n",
       "                                 SimpleImputer(fill_value=99,\n",
       "                                               strategy=&#x27;constant&#x27;),\n",
       "                                 [&#x27;Age&#x27;]),\n",
       "                                (&#x27;imputer2&#x27;,\n",
       "                                 SimpleImputer(fill_value=999,\n",
       "                                               strategy=&#x27;constant&#x27;),\n",
       "                                 [&#x27;Fare&#x27;])])</pre></div> </div></div><div class=\"sk-parallel\"><div class=\"sk-parallel-item\"><div class=\"sk-item\"><div class=\"sk-label-container\"><div class=\"sk-label fitted sk-toggleable\"><input class=\"sk-toggleable__control sk-hidden--visually\" id=\"sk-estimator-id-16\" type=\"checkbox\" ><label for=\"sk-estimator-id-16\" class=\"sk-toggleable__label fitted sk-toggleable__label-arrow\"><div><div>imputer1</div></div></label><div class=\"sk-toggleable__content fitted\"><pre>[&#x27;Age&#x27;]</pre></div> </div></div><div class=\"sk-serial\"><div class=\"sk-item\"><div class=\"sk-estimator fitted sk-toggleable\"><input class=\"sk-toggleable__control sk-hidden--visually\" id=\"sk-estimator-id-17\" type=\"checkbox\" ><label for=\"sk-estimator-id-17\" class=\"sk-toggleable__label fitted sk-toggleable__label-arrow\"><div><div>SimpleImputer</div></div><div><a class=\"sk-estimator-doc-link fitted\" rel=\"noreferrer\" target=\"_blank\" href=\"https://scikit-learn.org/1.6/modules/generated/sklearn.impute.SimpleImputer.html\">?<span>Documentation for SimpleImputer</span></a></div></label><div class=\"sk-toggleable__content fitted\"><pre>SimpleImputer(fill_value=99, strategy=&#x27;constant&#x27;)</pre></div> </div></div></div></div></div><div class=\"sk-parallel-item\"><div class=\"sk-item\"><div class=\"sk-label-container\"><div class=\"sk-label fitted sk-toggleable\"><input class=\"sk-toggleable__control sk-hidden--visually\" id=\"sk-estimator-id-18\" type=\"checkbox\" ><label for=\"sk-estimator-id-18\" class=\"sk-toggleable__label fitted sk-toggleable__label-arrow\"><div><div>imputer2</div></div></label><div class=\"sk-toggleable__content fitted\"><pre>[&#x27;Fare&#x27;]</pre></div> </div></div><div class=\"sk-serial\"><div class=\"sk-item\"><div class=\"sk-estimator fitted sk-toggleable\"><input class=\"sk-toggleable__control sk-hidden--visually\" id=\"sk-estimator-id-19\" type=\"checkbox\" ><label for=\"sk-estimator-id-19\" class=\"sk-toggleable__label fitted sk-toggleable__label-arrow\"><div><div>SimpleImputer</div></div><div><a class=\"sk-estimator-doc-link fitted\" rel=\"noreferrer\" target=\"_blank\" href=\"https://scikit-learn.org/1.6/modules/generated/sklearn.impute.SimpleImputer.html\">?<span>Documentation for SimpleImputer</span></a></div></label><div class=\"sk-toggleable__content fitted\"><pre>SimpleImputer(fill_value=999, strategy=&#x27;constant&#x27;)</pre></div> </div></div></div></div></div><div class=\"sk-parallel-item\"><div class=\"sk-item\"><div class=\"sk-label-container\"><div class=\"sk-label fitted sk-toggleable\"><input class=\"sk-toggleable__control sk-hidden--visually\" id=\"sk-estimator-id-20\" type=\"checkbox\" ><label for=\"sk-estimator-id-20\" class=\"sk-toggleable__label fitted sk-toggleable__label-arrow\"><div><div>remainder</div></div></label><div class=\"sk-toggleable__content fitted\"><pre>[&#x27;Family&#x27;]</pre></div> </div></div><div class=\"sk-serial\"><div class=\"sk-item\"><div class=\"sk-estimator fitted sk-toggleable\"><input class=\"sk-toggleable__control sk-hidden--visually\" id=\"sk-estimator-id-21\" type=\"checkbox\" ><label for=\"sk-estimator-id-21\" class=\"sk-toggleable__label fitted sk-toggleable__label-arrow\"><div><div>passthrough</div></div></label><div class=\"sk-toggleable__content fitted\"><pre>passthrough</pre></div> </div></div></div></div></div></div></div></div></div>"
      ],
      "text/plain": [
       "ColumnTransformer(remainder='passthrough',\n",
       "                  transformers=[('imputer1',\n",
       "                                 SimpleImputer(fill_value=99,\n",
       "                                               strategy='constant'),\n",
       "                                 ['Age']),\n",
       "                                ('imputer2',\n",
       "                                 SimpleImputer(fill_value=999,\n",
       "                                               strategy='constant'),\n",
       "                                 ['Fare'])])"
      ]
     },
     "execution_count": 55,
     "metadata": {},
     "output_type": "execute_result"
    }
   ],
   "source": [
    "trf.fit(x_train)"
   ]
  },
  {
   "cell_type": "code",
   "execution_count": 56,
   "id": "db871712",
   "metadata": {},
   "outputs": [
    {
     "data": {
      "text/plain": [
       "array([99.])"
      ]
     },
     "execution_count": 56,
     "metadata": {},
     "output_type": "execute_result"
    }
   ],
   "source": [
    "trf.named_transformers_['imputer1'].statistics_"
   ]
  },
  {
   "cell_type": "code",
   "execution_count": 57,
   "id": "2de249dc",
   "metadata": {},
   "outputs": [
    {
     "data": {
      "text/plain": [
       "array([999.])"
      ]
     },
     "execution_count": 57,
     "metadata": {},
     "output_type": "execute_result"
    }
   ],
   "source": [
    "trf.named_transformers_['imputer2'].statistics_"
   ]
  },
  {
   "cell_type": "code",
   "execution_count": 58,
   "id": "d4357aaf",
   "metadata": {},
   "outputs": [],
   "source": [
    "x_train = trf.transform(x_train)\n",
    "x_test = trf.transform(x_test)"
   ]
  },
  {
   "cell_type": "code",
   "execution_count": 59,
   "id": "6db214f0",
   "metadata": {},
   "outputs": [
    {
     "data": {
      "text/plain": [
       "array([[ 45.5   ,  28.5   ,   0.    ],\n",
       "       [ 23.    ,  13.    ,   0.    ],\n",
       "       [ 32.    ,   7.925 ,   0.    ],\n",
       "       ...,\n",
       "       [ 41.    , 999.    ,   2.    ],\n",
       "       [ 14.    , 120.    ,   3.    ],\n",
       "       [ 21.    ,  77.2875,   1.    ]])"
      ]
     },
     "execution_count": 59,
     "metadata": {},
     "output_type": "execute_result"
    }
   ],
   "source": [
    "x_train"
   ]
  },
  {
   "cell_type": "code",
   "execution_count": 60,
   "id": "7a2eefd9",
   "metadata": {},
   "outputs": [
    {
     "data": {
      "text/plain": [
       "array([[9.900000e+01, 1.524580e+01, 2.000000e+00],\n",
       "       [3.100000e+01, 1.050000e+01, 0.000000e+00],\n",
       "       [2.000000e+01, 7.925000e+00, 0.000000e+00],\n",
       "       [6.000000e+00, 3.300000e+01, 1.000000e+00],\n",
       "       [1.400000e+01, 1.124170e+01, 1.000000e+00],\n",
       "       [2.600000e+01, 7.885000e+01, 0.000000e+00],\n",
       "       [9.900000e+01, 7.750000e+00, 0.000000e+00],\n",
       "       [1.600000e+01, 1.800000e+01, 2.000000e+00],\n",
       "       [1.600000e+01, 7.750000e+00, 0.000000e+00],\n",
       "       [1.900000e+01, 2.628330e+01, 2.000000e+00],\n",
       "       [3.700000e+01, 5.310000e+01, 1.000000e+00],\n",
       "       [4.400000e+01, 8.050000e+00, 0.000000e+00],\n",
       "       [9.900000e+01, 2.546670e+01, 4.000000e+00],\n",
       "       [3.000000e+01, 7.225000e+00, 0.000000e+00],\n",
       "       [3.600000e+01, 1.300000e+01, 0.000000e+00],\n",
       "       [1.600000e+01, 3.940000e+01, 1.000000e+00],\n",
       "       [4.200000e+01, 5.255420e+01, 1.000000e+00],\n",
       "       [9.900000e+01, 7.829200e+00, 0.000000e+00],\n",
       "       [2.700000e+01, 1.300000e+01, 0.000000e+00],\n",
       "       [4.700000e+01, 5.200000e+01, 0.000000e+00],\n",
       "       [2.400000e+01, 7.895800e+00, 0.000000e+00],\n",
       "       [3.400000e+01, 2.655000e+01, 0.000000e+00],\n",
       "       [1.900000e+01, 7.854200e+00, 1.000000e+00],\n",
       "       [2.000000e+01, 9.225000e+00, 0.000000e+00],\n",
       "       [9.900000e+01, 1.450000e+01, 0.000000e+00],\n",
       "       [1.000000e+01, 2.790000e+01, 5.000000e+00],\n",
       "       [4.000000e+01, 2.772080e+01, 0.000000e+00],\n",
       "       [3.100000e+01, 9.990000e+02, 0.000000e+00],\n",
       "       [4.000000e+00, 2.790000e+01, 5.000000e+00],\n",
       "       [3.100000e+01, 7.854200e+00, 0.000000e+00],\n",
       "       [1.900000e+01, 7.895800e+00, 0.000000e+00],\n",
       "       [2.200000e+01, 7.750000e+00, 0.000000e+00],\n",
       "       [9.900000e+01, 3.069580e+01, 0.000000e+00],\n",
       "       [9.900000e+01, 7.550000e+00, 0.000000e+00],\n",
       "       [1.800000e+01, 8.050000e+00, 0.000000e+00],\n",
       "       [2.700000e+01, 1.445420e+01, 1.000000e+00],\n",
       "       [2.800000e+01, 3.550000e+01, 0.000000e+00],\n",
       "       [9.900000e+01, 7.750000e+00, 0.000000e+00],\n",
       "       [3.000000e+01, 3.100000e+01, 0.000000e+00],\n",
       "       [9.900000e+01, 7.895800e+00, 0.000000e+00],\n",
       "       [2.100000e+01, 7.350000e+01, 2.000000e+00],\n",
       "       [2.900000e+01, 7.045800e+00, 1.000000e+00],\n",
       "       [9.900000e+01, 8.050000e+00, 0.000000e+00],\n",
       "       [9.900000e+01, 7.750000e+00, 0.000000e+00],\n",
       "       [4.500000e+01, 1.445420e+01, 1.000000e+00],\n",
       "       [1.600000e+01, 3.437500e+01, 4.000000e+00],\n",
       "       [1.900000e+01, 8.158300e+00, 0.000000e+00],\n",
       "       [2.300000e+01, 9.225000e+00, 0.000000e+00],\n",
       "       [2.400000e+01, 7.050000e+00, 0.000000e+00],\n",
       "       [5.800000e+01, 1.132750e+02, 2.000000e+00],\n",
       "       [5.000000e+00, 1.925830e+01, 3.000000e+00],\n",
       "       [5.200000e+01, 9.350000e+01, 2.000000e+00],\n",
       "       [4.000000e+01, 2.790000e+01, 5.000000e+00],\n",
       "       [1.100000e+01, 1.200000e+02, 3.000000e+00],\n",
       "       [6.500000e+01, 7.750000e+00, 0.000000e+00],\n",
       "       [1.800000e+01, 7.965000e+01, 2.000000e+00],\n",
       "       [3.200000e+01, 1.050000e+01, 0.000000e+00],\n",
       "       [5.000000e+01, 2.475208e+02, 1.000000e+00],\n",
       "       [3.500000e+01, 9.990000e+02, 0.000000e+00],\n",
       "       [1.900000e+01, 7.879200e+00, 0.000000e+00],\n",
       "       [2.100000e+01, 7.775000e+00, 0.000000e+00],\n",
       "       [1.300000e+01, 1.950000e+01, 1.000000e+00],\n",
       "       [2.800000e+01, 2.600000e+01, 1.000000e+00],\n",
       "       [9.900000e+01, 2.592500e+01, 0.000000e+00],\n",
       "       [9.900000e+01, 7.750000e+00, 0.000000e+00],\n",
       "       [5.700000e+01, 1.050000e+01, 0.000000e+00],\n",
       "       [2.100000e+01, 7.350000e+01, 0.000000e+00],\n",
       "       [2.900000e+01, 7.875000e+00, 0.000000e+00],\n",
       "       [1.700000e+01, 7.229200e+00, 2.000000e+00],\n",
       "       [5.200000e+01, 7.826670e+01, 1.000000e+00],\n",
       "       [2.600000e+01, 2.600000e+01, 2.000000e+00],\n",
       "       [1.800000e+01, 2.623750e+02, 4.000000e+00],\n",
       "       [2.600000e+01, 9.990000e+02, 0.000000e+00],\n",
       "       [3.900000e+01, 8.315830e+01, 2.000000e+00],\n",
       "       [2.300000e+01, 7.854200e+00, 0.000000e+00],\n",
       "       [3.600000e+01, 1.555000e+01, 1.000000e+00],\n",
       "       [3.050000e+01, 7.750000e+00, 0.000000e+00],\n",
       "       [2.200000e+01, 4.950000e+01, 2.000000e+00],\n",
       "       [3.800000e+01, 1.300000e+01, 0.000000e+00],\n",
       "       [4.100000e+01, 2.021250e+01, 2.000000e+00],\n",
       "       [1.600000e+01, 9.990000e+02, 5.000000e+00],\n",
       "       [2.900000e+01, 1.050000e+01, 0.000000e+00],\n",
       "       [4.000000e+01, 1.345000e+02, 2.000000e+00],\n",
       "       [9.900000e+01, 7.737500e+00, 0.000000e+00],\n",
       "       [5.600000e+01, 3.069580e+01, 0.000000e+00],\n",
       "       [7.100000e+01, 4.950420e+01, 0.000000e+00],\n",
       "       [3.100000e+01, 1.132750e+02, 1.000000e+00],\n",
       "       [3.000000e+01, 5.692920e+01, 0.000000e+00],\n",
       "       [3.800000e+01, 0.000000e+00, 0.000000e+00],\n",
       "       [9.900000e+01, 7.250000e+00, 0.000000e+00],\n",
       "       [9.000000e+00, 2.052500e+01, 2.000000e+00],\n",
       "       [9.000000e+00, 3.127500e+01, 6.000000e+00],\n",
       "       [6.100000e+01, 3.232080e+01, 0.000000e+00],\n",
       "       [9.900000e+01, 7.729200e+00, 0.000000e+00],\n",
       "       [9.900000e+01, 7.895800e+00, 0.000000e+00],\n",
       "       [2.800000e+01, 9.990000e+02, 0.000000e+00],\n",
       "       [4.800000e+01, 5.200000e+01, 1.000000e+00],\n",
       "       [4.500000e+01, 8.050000e+00, 0.000000e+00],\n",
       "       [3.600000e+01, 9.990000e+02, 0.000000e+00],\n",
       "       [2.700000e+01, 7.895800e+00, 0.000000e+00],\n",
       "       [6.400000e+01, 2.600000e+01, 0.000000e+00],\n",
       "       [3.500000e+01, 7.125000e+00, 0.000000e+00],\n",
       "       [1.900000e+01, 9.107920e+01, 1.000000e+00],\n",
       "       [3.800000e+01, 7.050000e+00, 0.000000e+00],\n",
       "       [3.050000e+01, 8.050000e+00, 0.000000e+00],\n",
       "       [2.500000e+01, 7.775000e+00, 1.000000e+00],\n",
       "       [4.000000e+01, 3.900000e+01, 2.000000e+00],\n",
       "       [4.700000e+01, 3.850000e+01, 0.000000e+00],\n",
       "       [3.000000e+01, 9.500000e+00, 0.000000e+00],\n",
       "       [4.000000e+01, 3.100000e+01, 0.000000e+00],\n",
       "       [9.900000e+01, 5.200000e+01, 1.000000e+00],\n",
       "       [2.050000e+01, 7.250000e+00, 0.000000e+00],\n",
       "       [9.900000e+01, 8.910420e+01, 1.000000e+00],\n",
       "       [3.600000e+01, 2.628750e+01, 0.000000e+00],\n",
       "       [9.900000e+01, 2.217792e+02, 0.000000e+00],\n",
       "       [2.000000e+01, 9.845800e+00, 0.000000e+00],\n",
       "       [7.100000e+01, 3.465420e+01, 0.000000e+00],\n",
       "       [3.600000e+01, 1.287500e+01, 0.000000e+00],\n",
       "       [2.200000e+01, 2.900000e+01, 2.000000e+00],\n",
       "       [4.800000e+01, 3.437500e+01, 4.000000e+00],\n",
       "       [2.300000e+01, 1.150000e+01, 3.000000e+00],\n",
       "       [3.200000e+01, 7.629170e+01, 0.000000e+00],\n",
       "       [6.300000e+01, 7.795830e+01, 1.000000e+00],\n",
       "       [8.300000e-01, 2.900000e+01, 2.000000e+00],\n",
       "       [2.500000e+01, 7.250000e+00, 0.000000e+00],\n",
       "       [3.500000e+01, 2.655000e+01, 0.000000e+00],\n",
       "       [4.900000e+01, 2.592920e+01, 0.000000e+00],\n",
       "       [2.400000e+01, 7.920000e+01, 0.000000e+00],\n",
       "       [9.900000e+01, 1.445830e+01, 1.000000e+00],\n",
       "       [2.100000e+01, 8.050000e+00, 0.000000e+00],\n",
       "       [9.900000e+01, 7.879200e+00, 0.000000e+00],\n",
       "       [9.900000e+01, 1.524580e+01, 2.000000e+00],\n",
       "       [9.900000e+01, 0.000000e+00, 0.000000e+00],\n",
       "       [5.000000e+00, 1.247500e+01, 0.000000e+00],\n",
       "       [4.900000e+01, 5.692920e+01, 1.000000e+00],\n",
       "       [1.500000e+01, 1.445420e+01, 1.000000e+00],\n",
       "       [9.900000e+01, 1.108833e+02, 0.000000e+00],\n",
       "       [2.900000e+01, 7.775000e+00, 0.000000e+00],\n",
       "       [4.200000e+01, 7.550000e+00, 0.000000e+00],\n",
       "       [1.800000e+01, 1.780000e+01, 1.000000e+00],\n",
       "       [2.100000e+01, 8.433300e+00, 0.000000e+00],\n",
       "       [4.400000e+01, 2.600000e+01, 1.000000e+00],\n",
       "       [2.800000e+01, 1.300000e+01, 0.000000e+00],\n",
       "       [3.700000e+01, 2.600000e+01, 1.000000e+00],\n",
       "       [3.900000e+01, 2.912500e+01, 5.000000e+00],\n",
       "       [3.400000e+01, 3.250000e+01, 2.000000e+00],\n",
       "       [3.000000e+01, 1.300000e+01, 0.000000e+00],\n",
       "       [6.600000e+01, 1.050000e+01, 0.000000e+00],\n",
       "       [9.900000e+01, 1.465208e+02, 1.000000e+00],\n",
       "       [4.300000e+01, 8.050000e+00, 0.000000e+00],\n",
       "       [9.900000e+01, 8.712500e+00, 0.000000e+00],\n",
       "       [2.400000e+01, 7.495800e+00, 0.000000e+00],\n",
       "       [1.800000e+01, 7.795800e+00, 0.000000e+00],\n",
       "       [9.900000e+01, 2.415000e+01, 1.000000e+00],\n",
       "       [9.900000e+01, 8.050000e+00, 0.000000e+00],\n",
       "       [9.900000e+01, 7.050000e+00, 0.000000e+00],\n",
       "       [9.900000e+01, 5.649580e+01, 0.000000e+00],\n",
       "       [9.900000e+01, 9.990000e+02, 0.000000e+00],\n",
       "       [3.600000e+01, 9.990000e+02, 1.000000e+00],\n",
       "       [3.200000e+01, 1.550000e+01, 2.000000e+00],\n",
       "       [2.350000e+01, 7.229200e+00, 0.000000e+00],\n",
       "       [9.900000e+01, 2.655000e+01, 0.000000e+00],\n",
       "       [3.900000e+01, 1.300000e+01, 0.000000e+00],\n",
       "       [9.900000e+01, 8.217080e+01, 1.000000e+00],\n",
       "       [9.900000e+01, 8.458300e+00, 0.000000e+00],\n",
       "       [6.500000e+01, 6.197920e+01, 1.000000e+00],\n",
       "       [2.300000e+01, 1.050000e+01, 0.000000e+00],\n",
       "       [9.900000e+01, 5.186250e+01, 1.000000e+00],\n",
       "       [2.200000e+01, 9.990000e+02, 0.000000e+00],\n",
       "       [3.500000e+01, 7.050000e+00, 0.000000e+00],\n",
       "       [2.300000e+01, 6.335830e+01, 1.000000e+00],\n",
       "       [1.800000e+01, 1.300000e+01, 2.000000e+00],\n",
       "       [3.600000e+01, 2.638750e+01, 0.000000e+00],\n",
       "       [9.000000e+00, 1.524580e+01, 2.000000e+00],\n",
       "       [1.700000e+01, 7.125000e+00, 0.000000e+00],\n",
       "       [9.900000e+01, 7.225000e+00, 0.000000e+00],\n",
       "       [3.800000e+01, 3.138750e+01, 6.000000e+00],\n",
       "       [1.700000e+01, 1.050000e+01, 0.000000e+00],\n",
       "       [4.000000e+00, 1.670000e+01, 2.000000e+00]])"
      ]
     },
     "execution_count": 60,
     "metadata": {},
     "output_type": "execute_result"
    }
   ],
   "source": [
    "x_test"
   ]
  },
  {
   "cell_type": "code",
   "execution_count": null,
   "id": "3e61e568",
   "metadata": {},
   "outputs": [],
   "source": []
  }
 ],
 "metadata": {
  "kernelspec": {
   "display_name": "Python 3",
   "language": "python",
   "name": "python3"
  },
  "language_info": {
   "codemirror_mode": {
    "name": "ipython",
    "version": 3
   },
   "file_extension": ".py",
   "mimetype": "text/x-python",
   "name": "python",
   "nbconvert_exporter": "python",
   "pygments_lexer": "ipython3",
   "version": "3.12.4"
  }
 },
 "nbformat": 4,
 "nbformat_minor": 5
}
